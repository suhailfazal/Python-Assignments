{
 "cells": [
  {
   "cell_type": "code",
   "execution_count": null,
   "id": "703e4cf1",
   "metadata": {
    "scrolled": true
   },
   "outputs": [],
   "source": [
    "1. In the below elements which of them are values or an expression? \n",
    "    - values can be integer or string and expressions will be mathematical operators.\n",
    "    - * , - , / , + are expressions, and 'hello' , -87.8 , 6 are values\n",
    "\n",
    "* \n",
    "'hello'\n",
    "-87.8\n",
    "- \n",
    "/ \n",
    "+\n",
    "6 "
   ]
  },
  {
   "cell_type": "code",
   "execution_count": null,
   "id": "903f4ee9",
   "metadata": {},
   "outputs": [],
   "source": [
    "# * = multiplication operator\n",
    "# 'hello' = string\n",
    "# -87.8 = float\n",
    "# - = subtraction\n",
    "# / = division\n",
    "# + = addition\n",
    "# 6 = integer\n",
    "\n",
    "values = ('hello', '6', -87.8)\n",
    "expressions = '-','*', '/' , '+'"
   ]
  },
  {
   "cell_type": "code",
   "execution_count": null,
   "id": "6d5d0be7",
   "metadata": {},
   "outputs": [],
   "source": [
    "2. What is the difference between string and variable?"
   ]
  },
  {
   "cell_type": "code",
   "execution_count": null,
   "id": "89fc5128",
   "metadata": {},
   "outputs": [],
   "source": [
    "# String = \n",
    "          ''' \n",
    "            - A string is a sequence of characters        \n",
    "            - text, with ' ' , \" \" , ''' ''' single, double, triple quotes.\n",
    "            - is a python data type.\n",
    "            - the string data types are immutable.\n",
    "            - string object will always represent the same value, it can't be modified\n",
    "            - The string object 'h' will always represent the python value h\n",
    "            - python built in class is str for string. '''\n",
    "\n",
    "# Variable = \n",
    "'''\n",
    "            - Variables are containers for storing data values.\n",
    "            - A Python variable is a symbolic name that is a reference or pointer to an object. \n",
    "            - Variable is a name that is used to refer to memory location\n",
    "            - The first character of the variable must be an alphabet or underscore ( _ ).\n",
    "            - there are local and global variables\n",
    "            - Global variables are those which are not defined inside any function and have a global scope \n",
    "            whereas local variables are those which are defined inside a function and its scope is limited to that function.\n",
    "            '''"
   ]
  },
  {
   "cell_type": "code",
   "execution_count": null,
   "id": "9ade2367",
   "metadata": {},
   "outputs": [],
   "source": [
    "2. What is the difference between string and variable?\n",
    "    - Variables are symbols that you can use to store data in a program.\n",
    "    - String is a type of data ex: 'hello'"
   ]
  },
  {
   "cell_type": "code",
   "execution_count": null,
   "id": "3bdea8d2",
   "metadata": {},
   "outputs": [],
   "source": [
    "3. Describe three different data types.\n",
    "    - Numeric Types :\tint , float , complex\n",
    "    - Sequence Types:\tlist , tuple , range\n",
    "    - Mapping Type  :\tdict\n",
    "    - Set Types     :\tset\n",
    "    - Boolean       :\tTrue False"
   ]
  },
  {
   "cell_type": "code",
   "execution_count": null,
   "id": "d9ac6da8",
   "metadata": {},
   "outputs": [],
   "source": [
    "4. What is an expression made up of? What do all expressions do?\n",
    "    An expression is an instruction that combines values and operators and \n",
    "    always evaluates down to a single value. \n",
    "    \n",
    "    For example, \n",
    "    this is an expression: >>> 2 + 2. \n",
    "        The 2s are integer values and the + is the mathematical operator. \n",
    "        This expression evaluates down to the single integer value 4.\n"
   ]
  },
  {
   "cell_type": "code",
   "execution_count": null,
   "id": "e0187f99",
   "metadata": {},
   "outputs": [],
   "source": [
    "5. This assignment statements, like spam = 10. What is the difference between an expression and a statement?\n",
    "\n",
    "    - “expression” is a combination of values and functions that are combined and interpreted by the compiler to create a new value, \n",
    "    - “statement” is just a standalone unit of execution and doesn't return anything\n",
    "\n",
    "    - An expression is any legal combination of symbols that represents a value. \n",
    "    For example, 2.9, a + 5, (3 + 5) / 4. \n",
    "\n",
    "    - A statement is a programming instruction that does something \n",
    "    i.e. some action takes place. For example: print(\"Hello\")"
   ]
  },
  {
   "cell_type": "code",
   "execution_count": null,
   "id": "b39c65d5",
   "metadata": {},
   "outputs": [],
   "source": [
    "6. After running the following code, what does the variable bacon contain?\n",
    "bacon = 22\n",
    "bacon + 1\n",
    " - variable bacon contains 22, as +1 is just a temporary addition to this variable it is not stored in memory."
   ]
  },
  {
   "cell_type": "code",
   "execution_count": 9,
   "id": "38c4df8b",
   "metadata": {},
   "outputs": [
    {
     "data": {
      "text/plain": [
       "22"
      ]
     },
     "execution_count": 9,
     "metadata": {},
     "output_type": "execute_result"
    }
   ],
   "source": [
    "bacon = 22\n",
    "bacon"
   ]
  },
  {
   "cell_type": "code",
   "execution_count": 12,
   "id": "329c86b5",
   "metadata": {},
   "outputs": [
    {
     "data": {
      "text/plain": [
       "23"
      ]
     },
     "execution_count": 12,
     "metadata": {},
     "output_type": "execute_result"
    }
   ],
   "source": [
    "bacon + 1"
   ]
  },
  {
   "cell_type": "code",
   "execution_count": 13,
   "id": "3b0c198b",
   "metadata": {},
   "outputs": [
    {
     "data": {
      "text/plain": [
       "24"
      ]
     },
     "execution_count": 13,
     "metadata": {},
     "output_type": "execute_result"
    }
   ],
   "source": [
    "bacon + 2"
   ]
  },
  {
   "cell_type": "code",
   "execution_count": 14,
   "id": "329beaa8",
   "metadata": {},
   "outputs": [
    {
     "data": {
      "text/plain": [
       "25"
      ]
     },
     "execution_count": 14,
     "metadata": {},
     "output_type": "execute_result"
    }
   ],
   "source": [
    "bacon + 3 "
   ]
  },
  {
   "cell_type": "code",
   "execution_count": 15,
   "id": "73a3ccfe",
   "metadata": {},
   "outputs": [
    {
     "data": {
      "text/plain": [
       "22"
      ]
     },
     "execution_count": 15,
     "metadata": {},
     "output_type": "execute_result"
    }
   ],
   "source": [
    "bacon"
   ]
  },
  {
   "cell_type": "code",
   "execution_count": null,
   "id": "8f2692e1",
   "metadata": {},
   "outputs": [],
   "source": [
    "7. What should the values of the following two terms be?\n",
    "'spam' + 'spamspam'\n",
    "'spam' * 3"
   ]
  },
  {
   "cell_type": "code",
   "execution_count": 16,
   "id": "6c80c04d",
   "metadata": {},
   "outputs": [
    {
     "data": {
      "text/plain": [
       "'spamspamspam'"
      ]
     },
     "execution_count": 16,
     "metadata": {},
     "output_type": "execute_result"
    }
   ],
   "source": [
    "'spam' + 'spamspam'"
   ]
  },
  {
   "cell_type": "code",
   "execution_count": 17,
   "id": "7a900440",
   "metadata": {},
   "outputs": [
    {
     "data": {
      "text/plain": [
       "'spamspamspam'"
      ]
     },
     "execution_count": 17,
     "metadata": {},
     "output_type": "execute_result"
    }
   ],
   "source": [
    "'spam' * 3"
   ]
  },
  {
   "cell_type": "code",
   "execution_count": null,
   "id": "1b0414fe",
   "metadata": {},
   "outputs": [],
   "source": [
    "8. Why is eggs a valid variable name while 100 is invalid?\n",
    "\n",
    "    - The first character of the variable must be an alphabet or underscore ( _ )\n",
    "    - A variable name cannot start with a number.\n",
    "    - A variable name can only contain alpha-numeric characters and underscores (A-z, 0-9, and _ )\n",
    "    - Variable names are case-sensitive (age, Age and AGE are three different variables)"
   ]
  },
  {
   "cell_type": "code",
   "execution_count": null,
   "id": "c2596392",
   "metadata": {},
   "outputs": [],
   "source": [
    "9. What three functions can be used to get the integer, floating-point number, or string version of a value?\n",
    "\n",
    "    - The int() , float() , and str( ) functions will evaluate to the integer, \n",
    "    floating-point number, and string versions of the value passed to them.\n",
    "    - int() = will evaluate to the integer\n",
    "    - float() = floating-point number\n",
    "    - str( ) = string versions of the value passed to them"
   ]
  },
  {
   "cell_type": "code",
   "execution_count": null,
   "id": "959fea4b",
   "metadata": {},
   "outputs": [],
   "source": [
    "10. Why does this expression cause an error? How can you fix it?\n",
    "'I have eaten ' + 99 + ' burritos.'\n",
    "\n",
    "    - only string can be concatenated together."
   ]
  },
  {
   "cell_type": "code",
   "execution_count": 18,
   "id": "d4623339",
   "metadata": {},
   "outputs": [
    {
     "ename": "TypeError",
     "evalue": "can only concatenate str (not \"int\") to str",
     "output_type": "error",
     "traceback": [
      "\u001b[1;31m---------------------------------------------------------------------------\u001b[0m",
      "\u001b[1;31mTypeError\u001b[0m                                 Traceback (most recent call last)",
      "\u001b[1;32m<ipython-input-18-d24137131a5c>\u001b[0m in \u001b[0;36m<module>\u001b[1;34m\u001b[0m\n\u001b[1;32m----> 1\u001b[1;33m \u001b[1;34m'I have eaten '\u001b[0m \u001b[1;33m+\u001b[0m \u001b[1;36m99\u001b[0m \u001b[1;33m+\u001b[0m \u001b[1;34m' burritos.'\u001b[0m\u001b[1;33m\u001b[0m\u001b[1;33m\u001b[0m\u001b[0m\n\u001b[0m",
      "\u001b[1;31mTypeError\u001b[0m: can only concatenate str (not \"int\") to str"
     ]
    }
   ],
   "source": [
    "'I have eaten ' + 99 + ' burritos.'"
   ]
  },
  {
   "cell_type": "code",
   "execution_count": 19,
   "id": "004b7fb8",
   "metadata": {},
   "outputs": [
    {
     "data": {
      "text/plain": [
       "'I have eaten  burritos.'"
      ]
     },
     "execution_count": 19,
     "metadata": {},
     "output_type": "execute_result"
    }
   ],
   "source": [
    "'I have eaten ' + ' burritos.'"
   ]
  },
  {
   "cell_type": "code",
   "execution_count": 21,
   "id": "0cb224c6",
   "metadata": {},
   "outputs": [
    {
     "data": {
      "text/plain": [
       "199"
      ]
     },
     "execution_count": 21,
     "metadata": {},
     "output_type": "execute_result"
    }
   ],
   "source": [
    "100 + 99"
   ]
  },
  {
   "cell_type": "code",
   "execution_count": null,
   "id": "d627ddb1",
   "metadata": {},
   "outputs": [],
   "source": []
  }
 ],
 "metadata": {
  "kernelspec": {
   "display_name": "Python 3",
   "language": "python",
   "name": "python3"
  },
  "language_info": {
   "codemirror_mode": {
    "name": "ipython",
    "version": 3
   },
   "file_extension": ".py",
   "mimetype": "text/x-python",
   "name": "python",
   "nbconvert_exporter": "python",
   "pygments_lexer": "ipython3",
   "version": "3.8.8"
  }
 },
 "nbformat": 4,
 "nbformat_minor": 5
}
